{
 "cells": [
  {
   "cell_type": "code",
   "execution_count": 4,
   "id": "e46360a7",
   "metadata": {
    "pycharm": {
     "name": "#%%\n"
    }
   },
   "outputs": [
    {
     "name": "stdout",
     "output_type": "stream",
     "text": [
      "[nan nan nan 'TBD']\n",
      "['Age' 'Age' 'GDF15' nan]\n",
      "['IL-8' nan 'CA19-9' 'CA19-9']\n",
      "['CYFRA 21-1' nan nan nan]\n",
      "[nan nan nan nan]\n",
      "[nan nan nan nan]\n",
      "['Age/OPN' nan nan nan]\n",
      "['IL-8' nan nan nan]\n",
      "['OPN' nan 'OPN' 'Prolactin']\n",
      "['TIMP-1' nan nan 'HGF']\n",
      "[nan nan 'TGFa' nan]\n",
      "[nan nan nan nan]\n",
      "['IL-8' 'IL-8' 'IL-6' nan]\n",
      "[nan nan 'Age/IL-6/Thrombospondin' nan]\n"
     ]
    }
   ],
   "source": [
    "import pandas as pd\n",
    "import numpy as np \n",
    "import matplotlib.pyplot as plt\n",
    "\n",
    "# importing file with random forest paths for false positive individuals and where they went wrong classifying\n",
    "# NaN means they started off as 1 and never improved (so there were no incorrect moves)\n",
    "df = pd.read_csv(\"Documents/RandomForestsInterpret.csv\", low_memory=False)\n",
    "array = df.values\n",
    "\n",
    "for i in range(1,15):\n",
    "    print(array[:4,2*i]) #dev bio dataset\n",
    "    #print(array[6:9, 2*i]) #bio dataset\n",
    "    #print(array[11:, 2*i]) #replicated dataset"
   ]
  },
  {
   "cell_type": "markdown",
   "id": "88bf4cb6",
   "metadata": {
    "pycharm": {
     "name": "#%% md\n"
    }
   },
   "source": [
    "Age: 2 <br>\n",
    "Age/OPN: 2 <br>\n",
    "GDF15: 1 <br>\n",
    "CA19-9: 2 <br>\n",
    "CYFRA 21-1: 1 <br>\n",
    "Prolactin: 1 <br>\n",
    "Age/IL-6/Thrombospondin: 1 <br>\n",
    "IL-8: 4 <br>\n",
    "IL-6: 1 <br>\n",
    "TGFa: 1 <br>\n",
    "TIMP-1: 1 <br>\n",
    "HGF: 1 <br>\n",
    "OPN: 2 <br> <br>\n",
    "Total: 20"
   ]
  },
  {
   "cell_type": "code",
   "execution_count": 5,
   "id": "7366f234",
   "metadata": {
    "pycharm": {
     "name": "#%%\n"
    }
   },
   "outputs": [
    {
     "name": "stdout",
     "output_type": "stream",
     "text": [
      "['sEGFR' nan nan]\n",
      "[nan nan nan]\n",
      "['sEGFR' 'HGF' nan]\n",
      "['HE4' nan nan]\n",
      "[nan nan nan]\n",
      "[nan nan nan]\n",
      "[nan nan nan]\n",
      "[nan nan nan]\n",
      "['Angiopoietin-2' nan nan]\n",
      "['CYFRA 21-1' nan nan]\n",
      "[nan nan nan]\n",
      "[nan 'CA19-9' nan]\n",
      "['Midkine' 'OPN' nan]\n",
      "['OPN' nan nan]\n"
     ]
    }
   ],
   "source": [
    "for i in range(1,15):\n",
    "    print(array[6:9, 2*i]) #bio dataset"
   ]
  },
  {
   "cell_type": "markdown",
   "id": "ecb0e877",
   "metadata": {
    "pycharm": {
     "name": "#%% md\n"
    }
   },
   "source": [
    "sEGFR: 2 <br>\n",
    "HGF: 1 <br>\n",
    "HE4: 1 <br>\n",
    "Angiopoietin-2: 1 <br>\n",
    "CYFRA 21-1: 1 <br>\n",
    "Midkine: 1 <br>\n",
    "OPN: 2 <br>\n",
    "\n",
    "Total: 9"
   ]
  },
  {
   "cell_type": "code",
   "execution_count": 6,
   "id": "00afbebf",
   "metadata": {
    "pycharm": {
     "name": "#%%\n"
    }
   },
   "outputs": [
    {
     "name": "stdout",
     "output_type": "stream",
     "text": [
      "[nan nan nan nan nan nan nan nan nan nan 'CEA/Prolactin']\n",
      "[nan nan 'CEA' nan nan nan nan nan 'CEA' nan 'CEA']\n",
      "[nan nan nan nan nan nan nan 'HGF' nan nan nan]\n",
      "[nan nan 'CEA' nan nan nan nan nan 'CEA' 'Omega' 'CEA']\n",
      "[nan nan nan 'OPN' nan nan nan 'CA-125' 'OPN' 'OPN' nan]\n",
      "[nan 'Myeloperoxidase' nan nan nan nan nan 'Myeloperoxidase' nan nan nan]\n",
      "['CA19-9' 'CA19-9' nan 'CA19-9' nan nan 'CA-125' nan nan 'CA19-9' 'CA19-9']\n",
      "[nan 'CA-125' 'HGF' nan nan nan nan nan 'CA19-9' nan 'CA-125']\n",
      "['CA-125' nan nan 'CA-125' nan nan 'CA-125' nan nan 'CA-125' nan]\n",
      "[nan 'CA19-9' nan 'CA19-9' nan nan nan nan nan 'CA19-9' nan]\n",
      "[nan nan 'TIMP-1' nan nan 'CPN' nan 'CA-125' nan nan nan]\n",
      "[nan nan nan nan nan nan 'TIMP-1' 'TIMP-1' 'TIMP-1' 'TIMP-1' 'TIMP-1']\n",
      "[nan nan nan nan nan 'Omega' nan nan nan nan nan]\n",
      "[nan nan nan 'TIMP-1' nan 'Omega' nan nan 'TIMP-1' nan nan]\n"
     ]
    }
   ],
   "source": [
    "for i in range(1,15):\n",
    "     print(array[11:, 2*i]) #replicated dataset"
   ]
  },
  {
   "cell_type": "markdown",
   "id": "49ff0627",
   "metadata": {
    "pycharm": {
     "name": "#%% md\n"
    }
   },
   "source": [
    "CEA: 6 <br>\n",
    "CEA/Prolactin: 1 <br>\n",
    "HGF: 2 <br>\n",
    "CA-125: 9 <br>\n",
    "CA19-9: 9 <br> \n",
    "TIMP-1: 8 <br>\n",
    "Omega: 3 <br>\n",
    "CPN: 1 <br>\n",
    "Myeloperoxidase: 2 <br>\n",
    "\n",
    "Total: 41"
   ]
  },
  {
   "cell_type": "markdown",
   "id": "5f0fc1a4",
   "metadata": {
    "pycharm": {
     "name": "#%% md\n"
    }
   },
   "source": [
    "After generating the random forests and finding the specificity on our different datasets (94.8% for dem/bio, 95.2% for bio, 92.8% for replicated), we searched through all of the false positive cases to see if there was a common denominator in all of the trees which incorrectly classified the patients. For the dem/bio dataset, age was the cause of incorrect classifications in 25% of the cases, IL-8 was the cause of 20% of the cases, and for the replicated dataset, CA-125 and CA19-9 were the cause of 21% of the cases. <br> <br>\n",
    "However, since there were so many decisions in the trees and these features were approximately uniform over all of them, we believe that the reason that some features were present in more of the incorrectly classified cases were simply due to variance. Similarly, due to the limited dataset we do have present, we aren't able to check any additional cases of incorrect classification, so this is the extent that we are able to analyze this issue. Thus, we cannot conclude that any features are causing a disproportional amount of false positive classifications."
   ]
  },
  {
   "cell_type": "code",
   "execution_count": null,
   "id": "736264e0",
   "metadata": {
    "pycharm": {
     "name": "#%%\n"
    }
   },
   "outputs": [],
   "source": []
  }
 ],
 "metadata": {
  "kernelspec": {
   "display_name": "Python 3",
   "language": "python",
   "name": "python3"
  },
  "language_info": {
   "codemirror_mode": {
    "name": "ipython",
    "version": 3
   },
   "file_extension": ".py",
   "mimetype": "text/x-python",
   "name": "python",
   "nbconvert_exporter": "python",
   "pygments_lexer": "ipython3",
   "version": "3.8.8"
  }
 },
 "nbformat": 4,
 "nbformat_minor": 5
}