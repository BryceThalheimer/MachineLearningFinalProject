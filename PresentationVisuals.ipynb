{
 "cells": [
  {
   "cell_type": "code",
   "execution_count": null,
   "outputs": [],
   "source": [
    "import pandas as pd\n",
    "import numpy as np \n",
    "import matplotlib.pyplot as plt\n",
    "import seaborn as sns\n",
    "import scikitplot as skplt\n",
    "from sklearn.metrics import confusion_matrix\n",
    "\n",
    "df = pd.read_csv(\".\\\\dataset\\\\Consolidated_CancerSEEK_Data.csv\", low_memory = False)\n",
    "array = df.values"
   ],
   "metadata": {
    "collapsed": false,
    "pycharm": {
     "name": "#%%\n"
    }
   }
  },
  {
   "cell_type": "code",
   "execution_count": null,
   "outputs": [],
   "source": [
    "# tumor types\n",
    "np.unique(array[:, 5], return_index=False, return_inverse=False, return_counts=False, axis=None)"
   ],
   "metadata": {
    "collapsed": false,
    "pycharm": {
     "name": "#%%\n"
    }
   }
  },
  {
   "cell_type": "code",
   "execution_count": null,
   "outputs": [],
   "source": [
    "cancerTypes = ['Breast', 'Colorectum', 'Esophagus', 'Liver', 'Lung', 'Normal',\n",
    "       'Ovary', 'Pancreas', 'Stomach'] \n",
    "cancerTypeCases = []\n",
    "\n",
    "# cases for each cancer type\n",
    "for i in range(len(cancerTypes)):\n",
    "    cancerTypeCases.append(array[:, 5][array[:, 5] == cancerTypes[i]].shape[0])\n",
    "    print(cancerTypes[i] + \" cancer cases: \" + str(cancerTypeCases[i]))\n",
    "\n",
    "# note 'normal cancer' are control patients"
   ],
   "metadata": {
    "collapsed": false,
    "pycharm": {
     "name": "#%%\n"
    }
   }
  },
  {
   "cell_type": "code",
   "execution_count": null,
   "outputs": [],
   "source": [
    "names = ['Breast', 'Colorectum', 'Esophagus', 'Liver', 'Lung', 'Ovary', 'Pancreas', 'Stomach'] \n",
    "size = [209, 388, 45, 44, 104, 54, 93, 68]\n",
    " \n",
    "my_circle = plt.Circle( (0,0), 0.5, color='white')\n",
    "\n",
    "plt.pie(size, labels=names, colors=['royalblue', 'darkturquoise', 'mediumblue', \n",
    "                                    'steelblue', 'skyblue', 'lightsteelblue', 'navy', 'lightskyblue'])\n",
    "\n",
    "# pie chart of cancer types\n",
    "p = plt.gcf()\n",
    "p.gca().add_artist(my_circle)\n",
    "plt.title(\"Types of Cancer\")\n",
    "plt.show()"
   ],
   "metadata": {
    "collapsed": false,
    "pycharm": {
     "name": "#%%\n"
    }
   }
  },
  {
   "cell_type": "code",
   "execution_count": null,
   "outputs": [],
   "source": [
    "# stage types\n",
    "np.unique(array[1:, 6], return_index=False, return_inverse=False, return_counts=False, axis=None)"
   ],
   "metadata": {
    "collapsed": false,
    "pycharm": {
     "name": "#%%\n"
    }
   }
  },
  {
   "cell_type": "code",
   "execution_count": null,
   "outputs": [],
   "source": [
    "stageTypes = ['0', 'I', 'II', 'III']\n",
    "stageTypeCases = []\n",
    "\n",
    "for i in range(len(stageTypes)):\n",
    "    stageTypeCases.append(array[1:, 6][array[1:, 6] == stageTypes[i]].shape[0])\n",
    "    print(\"Stage \" + stageTypes[i] + \" cancer cases: \" + str(stageTypeCases[i]))"
   ],
   "metadata": {
    "collapsed": false,
    "pycharm": {
     "name": "#%%\n"
    }
   }
  },
  {
   "cell_type": "code",
   "execution_count": null,
   "outputs": [],
   "source": [
    "names = ['I', 'II', 'III'] \n",
    "size = [198, 497, 309]\n",
    " \n",
    "my_circle = plt.Circle( (0,0), 0.5, color='white')\n",
    "\n",
    "plt.pie(size, labels=names, colors=['royalblue', 'darkturquoise', 'mediumblue'])\n",
    "\n",
    "# pie charts of stage types\n",
    "p = plt.gcf()\n",
    "p.gca().add_artist(my_circle)\n",
    "plt.title(\"Stage of Cancer\")\n",
    "plt.show()"
   ],
   "metadata": {
    "collapsed": false,
    "pycharm": {
     "name": "#%%\n"
    }
   }
  },
  {
   "cell_type": "code",
   "execution_count": null,
   "outputs": [],
   "source": [
    "# distribution of control and cancer patients    \n",
    "cancerPatient = 0\n",
    "controlPatient = 0\n",
    "totalCases = 1817.\n",
    "for value in array[:, 49]:\n",
    "    if value == 1:\n",
    "        cancerPatient += 1\n",
    "    else:\n",
    "        controlPatient += 1\n",
    "        \n",
    "print(\"Total number of cancer patients: \" + str(cancerPatient))\n",
    "print(\"Total number of healthy patients: \" + str(controlPatient))"
   ],
   "metadata": {
    "collapsed": false,
    "pycharm": {
     "name": "#%%\n"
    }
   }
  },
  {
   "cell_type": "code",
   "execution_count": null,
   "outputs": [],
   "source": [
    "tpr = 0\n",
    "tnr = 0\n",
    "fpr = 0\n",
    "fnr = 0\n",
    "\n",
    "predAndActual = array[:, 48:]\n",
    "\n",
    "# counting tpr, tnr, fpr, fnr cases\n",
    "for i in range(len(predAndActual)):\n",
    "    if predAndActual[i,0] == 0:\n",
    "        if predAndActual[i,0] == predAndActual[i,1]:\n",
    "            tnr += 1\n",
    "        else:\n",
    "            fnr += 1\n",
    "    else:\n",
    "        if predAndActual[i,0] == predAndActual[i,1]:\n",
    "            tpr += 1\n",
    "        else:\n",
    "            fpr += 1\n",
    "\n",
    "print(\"Number of true positives: \" + str(tpr))\n",
    "print(\"Number of true negatives: \" + str(tnr))\n",
    "print(\"Number of false positives: \" + str(fpr))\n",
    "print(\"Number of false negatives: \" + str(fnr))"
   ],
   "metadata": {
    "collapsed": false,
    "pycharm": {
     "name": "#%%\n"
    }
   }
  },
  {
   "cell_type": "code",
   "execution_count": null,
   "outputs": [],
   "source": [
    "# creating confusion matrix \n",
    "cf_matrix = np.zeros((2, 2))\n",
    "cf_matrix[0,0] = 805\n",
    "cf_matrix[0,1] = 7\n",
    "cf_matrix[1,0] = 379\n",
    "cf_matrix[1,1] = 626\n",
    "print(cf_matrix)"
   ],
   "metadata": {
    "collapsed": false,
    "pycharm": {
     "name": "#%%\n"
    }
   }
  },
  {
   "cell_type": "code",
   "execution_count": null,
   "outputs": [],
   "source": [
    "# plotting confusion matrix\n",
    "group_names = ['True Negative','False Positive','False Negative','True Positive']\n",
    "group_counts = [\"{0:0.0f}\".format(value) for value in cf_matrix.flatten()]\n",
    "group_percentages = [\"{0:.2%}\".format(value) for value in cf_matrix.flatten()/np.sum(cf_matrix)]\n",
    "\n",
    "labels = [f\"{v1}\\n{v2}\\n{v3}\" for v1, v2, v3 in zip(group_names,group_counts,group_percentages)]\n",
    "labels = np.asarray(labels).reshape(2,2)\n",
    "ax = plt.axes()\n",
    "sns.heatmap(cf_matrix, annot=labels, fmt = '', cmap='Blues', ax = ax)\n",
    "ax.set_title('Confusion Matrix for CancerSEEK accuracy')\n",
    "plt.show()"
   ],
   "metadata": {
    "collapsed": false,
    "pycharm": {
     "name": "#%%\n"
    }
   }
  },
  {
   "cell_type": "code",
   "execution_count": null,
   "outputs": [],
   "source": [
    "# initializing variables to count fnr or tpr / stage types\n",
    "tpr = 0\n",
    "tnr = 0\n",
    "fpr = 0\n",
    "fnr = 0\n",
    "count11 = 0\n",
    "count12 = 0\n",
    "count13 = 0\n",
    "count21 = 0\n",
    "count22 = 0\n",
    "count23 = 0\n",
    "\n",
    "predAndActual = array[:, 48:]\n",
    "\n",
    "for i in range(len(predAndActual)):\n",
    "    if predAndActual[i,0] == 0:\n",
    "        if predAndActual[i,0] == predAndActual[i,1]:\n",
    "            tnr += 1\n",
    "        else:\n",
    "            fnr += 1\n",
    "            if array[i,6] == 'I':\n",
    "                count11 += 1\n",
    "            elif array[i,6] == 'II':\n",
    "                count12 += 1\n",
    "            elif array[i,6] == 'III':\n",
    "                count13 += 1    \n",
    "                \n",
    "            \n",
    "    else:\n",
    "        if predAndActual[i,0] == predAndActual[i,1]:\n",
    "            tpr += 1\n",
    "            if array[i,6] == 'I':\n",
    "                count21 += 1\n",
    "            elif array[i,6] == 'II':\n",
    "                count22 += 1\n",
    "            elif array[i,6] == 'III':\n",
    "                count23 += 1\n",
    "        else:\n",
    "            fpr += 1   \n",
    "\n",
    "print(\"False negatives\")\n",
    "print(\"Stage 1: \" + str(count11))\n",
    "print(\"Stage 2: \" + str(count12))\n",
    "print(\"Stage 3: \" + str(count13))\n",
    "print(\"True positives\")\n",
    "print(\"Stage 1: \" + str(count21))\n",
    "print(\"Stage 2: \" + str(count22))\n",
    "print(\"Stage 3: \" + str(count23))"
   ],
   "metadata": {
    "collapsed": false,
    "pycharm": {
     "name": "#%%\n"
    }
   }
  },
  {
   "cell_type": "code",
   "execution_count": null,
   "outputs": [],
   "source": [
    "X = ['Type I','Type II','Type III']\n",
    "fnr = [104/(104+95), 183/(183+314), 92/(92+217)]\n",
    "tpr = [95/(104+95), 314/(183+314), 217/(92+217)]\n",
    "  \n",
    "X_axis = np.arange(len(X))\n",
    "  \n",
    "plt.bar(X_axis - 0.2, fnr, 0.4, label = '% of false negatives', color = 'darkblue')\n",
    "plt.bar(X_axis + 0.2, tpr, 0.4, label = '% of true positives', color = 'blue')\n",
    "  \n",
    "plt.xticks(X_axis, X)\n",
    "plt.title(\"Classification of Cancer Patients\")\n",
    "plt.legend()\n",
    "plt.show()"
   ],
   "metadata": {
    "collapsed": false,
    "pycharm": {
     "name": "#%%\n"
    }
   }
  },
  {
   "cell_type": "code",
   "execution_count": null,
   "outputs": [],
   "source": [
    "# correlation matrix\n",
    "matrix = df.corr().values\n",
    "print(matrix[39])"
   ],
   "metadata": {
    "collapsed": false,
    "pycharm": {
     "name": "#%%\n"
    }
   }
  },
  {
   "cell_type": "code",
   "execution_count": null,
   "outputs": [],
   "source": [
    "# plotting correlation matrix\n",
    "sns.heatmap(df.corr(), cmap=\"Blues\")"
   ],
   "metadata": {
    "collapsed": false,
    "pycharm": {
     "name": "#%%\n"
    }
   }
  },
  {
   "cell_type": "code",
   "execution_count": null,
   "outputs": [],
   "source": [],
   "metadata": {
    "collapsed": false,
    "pycharm": {
     "name": "#%%\n"
    }
   }
  },
  {
   "cell_type": "code",
   "execution_count": null,
   "outputs": [],
   "source": [],
   "metadata": {
    "collapsed": false,
    "pycharm": {
     "name": "#%%\n"
    }
   }
  }
 ],
 "metadata": {
  "kernelspec": {
   "display_name": "Python 3",
   "language": "python",
   "name": "python3"
  },
  "language_info": {
   "codemirror_mode": {
    "name": "ipython",
    "version": 3
   },
   "file_extension": ".py",
   "mimetype": "text/x-python",
   "name": "python",
   "nbconvert_exporter": "python",
   "pygments_lexer": "ipython3",
   "version": "3.8.8"
  }
 },
 "nbformat": 4,
 "nbformat_minor": 5
}