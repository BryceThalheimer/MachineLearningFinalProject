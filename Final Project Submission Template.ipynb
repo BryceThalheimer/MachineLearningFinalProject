{
 "cells": [
  {
   "cell_type": "markdown",
   "id": "e14c4e70",
   "metadata": {},
   "source": [
    "# Instructions\n",
    "\n",
    "This document is a template, and you are not required to follow it exactly. However, the kinds of questions we ask here are the kinds of questions we want you to focus on. While you might have answered similar questions to these in your project presentations, we want you to go into a lot more detail in this write-up; you can refer to the Lab homeworks for ideas on how to present your data or results. \n",
    "\n",
    "You don't have to answer every question in this template, but you should answer roughly this many questions. Your answers to such questions should be paragraph-length, not just a bullet point. You likely still have questions of your own -- that's okay! We want you to convey what you've learned, how you've learned it, and demonstrate that the content from the course has influenced how you've thought about this project."
   ]
  },
  {
   "cell_type": "markdown",
   "id": "6c803526",
   "metadata": {},
   "source": [
    "# Machine Learning algorithms for the detection and localization of surgically resectable cancers\n",
    "Project mentor: Joshua Popp\n",
    "\n",
    "Chris Wilhelm <cwilhel8@jh.edu>, Jayden Kunwar <jkunwar1@jhu.edu>, Bryce Thalheimer <bthalhe1@jh.edu>, Arthur Beyer <cbeyer4@jhu.edu>\n",
    "\n",
    "Link_to_git_repo"
   ]
  },
  {
   "cell_type": "markdown",
   "id": "ec49d4de",
   "metadata": {},
   "source": [
    "# Outline and Deliverables"
   ]
  },
  {
   "cell_type": "markdown",
   "id": "07a2585d",
   "metadata": {},
   "source": [
    "List the deliverables from your project proposal. For each uncompleted deliverable, please include a sentence or two on why you weren't able to complete it (e.g. \"decided to use an existing implementation instead\" or \"ran out of time\"). For each completed deliverable, indicate which section of this notebook covers what you did.\n",
    "\n",
    "If you spent substantial time on any aspects that weren't deliverables in your proposal, please list those under \"Additional Work\" and indicate where in the notebook you discuss them.\n",
    "\n",
    "### Uncompleted Deliverables\n",
    "1. \"Expect to complete #2\": we decided to use an existing implementation for our SVM\n",
    "2. ...\n",
    "\n",
    "\n",
    "### Completed Deliverables\n",
    "1. \"Must complete #1\": We discuss our dataset pre-processing [in \"Dataset\" below](#scrollTo=zFq-_D0khnhh&line=10&uniqifier=1).\n",
    "2. \"Must complete #2\": We discuss training our logistic regression baseline [in \"Baselines\" below](#scrollTo=oMyqHUa0jUw7&line=5&uniqifier=1).\n",
    "3. ...\n",
    "\n",
    "\n",
    "### Additional Deliverables\n",
    "1. We decided to add a second baseline using the published model from this paper. We discuss this [in \"Baselines\" below](#scrollTo=oMyqHUa0jUw7&line=5&uniqifier=1).\n",
    "2. ..."
   ]
  },
  {
   "cell_type": "markdown",
   "id": "d56a1fa2",
   "metadata": {},
   "source": [
    "# Preliminaries"
   ]
  },
  {
   "cell_type": "markdown",
   "id": "584cc62a",
   "metadata": {},
   "source": [
    "## What problem were you trying to solve or understand?\n",
    "\n",
    "What are the real-world implications of this data and task?\n",
    "\n",
    "How is this problem similar to others we’ve seen in lectures, breakouts, and homeworks?\n",
    "\n",
    "What makes this problem unique?\n",
    "\n",
    "What ethical implications does this problem have?"
   ]
  },
  {
   "cell_type": "markdown",
   "id": "bcfce2aa",
   "metadata": {},
   "source": [
    "## Dataset(s)\n",
    "\n",
    "Describe the dataset(s) you used.\n",
    "\n",
    "How were they collected?\n",
    "\n",
    "Why did you choose them?\n",
    "\n",
    "How many examples in each?\n",
    "\n",
    "#### Load your data and print 2-3 examples"
   ]
  },
  {
   "cell_type": "markdown",
   "id": "bb2ca79b",
   "metadata": {},
   "source": [
    "## Pre-processing\n",
    "\n",
    "What features did you use or choose not to use? Why?\n",
    "\n",
    "If you have categorical labels, were your datasets class-balanced?\n",
    "\n",
    "How did you deal with missing data? What about outliers?\n",
    "\n",
    "What approach(es) did you use to pre-process your data? Why?\n",
    "\n",
    "Are your features continuous or categorical? How do you treat these features differently?\n",
    "\n",
    "#### For those same examples above, what do they look like after being pre-processed?\n",
    "\n",
    "#### Visualize the distribution of your data before and after pre-processing.\n",
    "#### You may borrow from how we visualized data in the Lab homeworks."
   ]
  },
  {
   "cell_type": "markdown",
   "id": "c88db888",
   "metadata": {},
   "source": [
    "# Models and Evaluation"
   ]
  },
  {
   "cell_type": "markdown",
   "id": "b6ad0919",
   "metadata": {},
   "source": [
    "## Experimental Setup\n",
    "\n",
    "How did you evaluate your methods? Why is that a reasonable evaluation metric for the task?\n",
    "\n",
    "What did you use for your loss function to train your models? Did you try multiple loss functions? Why or why not?\n",
    "\n",
    "How did you split your data into train and test sets? Why?\n",
    "\n",
    "#### Code for loss functions, evaluation metrics or link to Git repo"
   ]
  },
  {
   "cell_type": "markdown",
   "id": "98ae1b3f",
   "metadata": {},
   "source": [
    "## Baselines \n",
    "\n",
    "What baselines did you compare against? Why are these reasonable?\n",
    "\n",
    "Did you look at related work to contextualize how others methods or baselines have performed on this dataset/task? If so, how did those methods do?"
   ]
  },
  {
   "cell_type": "markdown",
   "id": "291a7645",
   "metadata": {},
   "source": [
    "## Methods\n",
    "\n",
    "What methods did you choose? Why did you choose them?\n",
    "\n",
    "How did you train these methods, and how did you evaluate them? Why?\n",
    "\n",
    "Which methods were easy/difficult to implement and train? Why?\n",
    "\n",
    "For each method, what hyperparameters did you evaluate? How sensitive was your model's performance to different hyperparameter settings?\n",
    "\n",
    "#### Code for training models, or link to your Git repository\n",
    "##### Show plots of how these models performed during training.\n",
    "####  For example, plot train loss and train accuracy (or other evaluation metric) on the y-axis, with number of iterations or number of examples on the x-axis."
   ]
  },
  {
   "cell_type": "markdown",
   "id": "3e6d8338",
   "metadata": {},
   "source": [
    "## Results\n",
    "\n",
    "Show tables comparing your methods to the baselines.\n",
    "\n",
    "What about these results surprised you? Why?\n",
    "\n",
    "Did your models over- or under-fit? How can you tell? What did you do to address these issues?\n",
    "\n",
    "What does the evaluation of your trained models tell you about your data? How do you expect these models might behave differently on different data?  \n",
    "\n",
    "#### Show plots or visualizations of your evaluation metric(s) on the train and test sets.\n",
    "#### What do these plots show about over- or under-fitting?\n",
    "#### You may borrow from how we visualized results in the Lab homeworks.\n",
    "#### Are there aspects of your results that are difficult to visualize? Why?"
   ]
  },
  {
   "cell_type": "markdown",
   "id": "39b2f5e6",
   "metadata": {},
   "source": [
    "# Discussion"
   ]
  },
  {
   "cell_type": "markdown",
   "id": "283501b6",
   "metadata": {},
   "source": [
    "## What you've learned\n",
    "\n",
    "*Note: you don't have to answer all of these, and you can answer other questions if you'd like. We just want you to demonstrate what you've learned from the project.*\n",
    "\n",
    "What concepts from lecture/breakout were most relevant to your project? How so?\n",
    "\n",
    "What aspects of your project did you find most surprising?\n",
    "\n",
    "What lessons did you take from this project that you want to remember for the next ML project you work on? Do you think those lessons would transfer to other datasets and/or models? Why or why not?\n",
    "\n",
    "What was the most helpful feedback you received during your presentation? Why?\n",
    "\n",
    "If you had two more weeks to work on this project, what would you do next? Why?"
   ]
  },
  {
   "cell_type": "code",
   "execution_count": null,
   "id": "e3bd8711",
   "metadata": {},
   "outputs": [],
   "source": []
  }
 ],
 "metadata": {
  "kernelspec": {
   "display_name": "Python 3",
   "language": "python",
   "name": "python3"
  },
  "language_info": {
   "codemirror_mode": {
    "name": "ipython",
    "version": 3
   },
   "file_extension": ".py",
   "mimetype": "text/x-python",
   "name": "python",
   "nbconvert_exporter": "python",
   "pygments_lexer": "ipython3",
   "version": "3.8.8"
  }
 },
 "nbformat": 4,
 "nbformat_minor": 5
}